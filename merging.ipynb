{
 "cells": [
  {
   "cell_type": "code",
   "execution_count": 1,
   "metadata": {},
   "outputs": [],
   "source": [
    "import matplotlib.pyplot as plt\n",
    "import pandas as pd\n",
    "import numpy as np\n",
    "from glob import glob\n",
    "import os"
   ]
  },
  {
   "cell_type": "code",
   "execution_count": 2,
   "metadata": {},
   "outputs": [],
   "source": [
    "rel_data_dir_full = './data/sharew8_all/'\n",
    "rel_data_dir_easy = './data/sharew8_easy/'\n",
    "outdir = './Project'"
   ]
  },
  {
   "cell_type": "code",
   "execution_count": 3,
   "metadata": {},
   "outputs": [],
   "source": [
    "'''\n",
    "Wave 8 Release 8.0.0\n",
    "DOI: 10.6103/SHARE.w8.800\n",
    "2022-02-10 00:53:53\n",
    "'''\n",
    "all_files = glob(f\"{rel_data_dir_full}*.dta\")\n",
    "\n",
    "'''\n",
    "easySHARE Release 8.0.0\n",
    "DOI: 10.6103/SHARE.easy.800\n",
    "2022-02-10 01:00:22\n",
    "'''\n",
    "easy_files = glob(f\"{rel_data_dir_easy}*.dta\")\n",
    "\n",
    "'''\n",
    "Wave 8 Accelerometer Epochs Release 8.0.0\n",
    "DOI: 10.6103/SHARE.w8.800\n",
    "2022-02-10 01:04:04\n",
    "'''\n",
    "acc_files = glob(f\"{rel_data_dir_full}dta/**/*.dta\", recursive=True)"
   ]
  },
  {
   "cell_type": "markdown",
   "metadata": {},
   "source": [
    "Loading the datasets from SHARE "
   ]
  },
  {
   "cell_type": "code",
   "execution_count": 4,
   "metadata": {},
   "outputs": [],
   "source": [
    "df_easy = pd.read_stata(easy_files[0])\n",
    "df_ph = pd.read_stata(os.path.join(rel_data_dir_full, 'sharew8_rel8-0-0_ph.dta'))\n",
    "df_acc_hr = pd.read_stata(os.path.join(rel_data_dir_full, 'sharew8_rel8-0-0_gv_accelerometer_hour.dta'))\n",
    "df_acc = pd.read_stata(os.path.join(rel_data_dir_full, 'sharew8_rel8-0-0_gv_accelerometer_total.dta'))\n",
    "df_acc_imp = pd.read_stata(os.path.join(rel_data_dir_full, 'sharew8_rel8-0-0_gv_imputations.dta'))\n",
    "df_acc_hr_clean = df_acc_hr.iloc[:,0:15]"
   ]
  },
  {
   "attachments": {},
   "cell_type": "markdown",
   "metadata": {},
   "source": [
    "Data prep"
   ]
  },
  {
   "cell_type": "code",
   "execution_count": 5,
   "metadata": {},
   "outputs": [],
   "source": [
    "df_acc_hr_clean.loc[:, 'OxCGRT_stay_at_home'] = df_acc_hr_clean['OxCGRT_stay_at_home'].replace({\n",
    "    'No measures': 'No restrictions',\n",
    "    \"Require not leaving house with exceptions for daily exercise, grocery shopping, and 'essential' trips\": 'Essential only',\n",
    "    \"Recommend not leaving house\": 'Stay at home',\n",
    "})"
   ]
  },
  {
   "cell_type": "code",
   "execution_count": 6,
   "metadata": {},
   "outputs": [],
   "source": [
    "def get_common_columns(df1, df2, merge_on=['mergeid']):\n",
    "    common = df1.columns.difference(df2.columns).tolist()\n",
    "    common.extend(merge_on)\n",
    "    return common"
   ]
  },
  {
   "cell_type": "code",
   "execution_count": 7,
   "metadata": {},
   "outputs": [],
   "source": [
    "df = df_acc_hr_clean.copy()\n",
    "df = pd.merge(left=df, left_on=['mergeid'], right=df_ph[get_common_columns(df_ph, df)], right_on=['mergeid'], how='left')\n",
    "df = pd.merge(left=df, left_on=['mergeid'], right=df_acc[get_common_columns(df_acc, df)], right_on=['mergeid'], how='left')\n",
    "df = pd.merge(left=df, left_on=['mergeid'], right=df_easy[get_common_columns(df_easy, df)], right_on=['mergeid'], how='left')\n",
    "\n",
    "df = df[df['wave'] == 8]"
   ]
  },
  {
   "cell_type": "code",
   "execution_count": 8,
   "metadata": {},
   "outputs": [],
   "source": [
    "def map_selected_num(df, columns: list[str]):\n",
    "    df = df.copy()\n",
    "    for c in columns:\n",
    "        df.loc[:, c] = df[c].map({\n",
    "            'Selected': 1,\n",
    "            'Not selected': 0,\n",
    "            \"Don't know\": -1,\n",
    "            'Refusal': -2,\n",
    "            1: 1,\n",
    "            0: 0,\n",
    "            -1: -1,\n",
    "            -2: -2,\n",
    "        })\n",
    "    return df"
   ]
  },
  {
   "cell_type": "code",
   "execution_count": 9,
   "metadata": {},
   "outputs": [],
   "source": [
    "#                        Hypertension, Diabetis, Osteoarthritis, pain hips, pain knee\n",
    "df = map_selected_num(df, ['ph006d2', 'ph006d5', 'ph006d20', 'ph087d2', 'ph087d3'])"
   ]
  },
  {
   "attachments": {},
   "cell_type": "markdown",
   "metadata": {},
   "source": [
    "Defining Osteoarthritis \n",
    "\n",
    "ph006d20: Osteoarthritis/other rheumatism: ever diagnosed/currently having\n",
    "\n",
    "ph087d2: Pain location: hips or\n",
    "ph087d3: Pain location: knees\n",
    "\n",
    "\n",
    "d1: Hypertension\n",
    "\n",
    "d2: Diabetes\n",
    "\n",
    "d3: OA (in hip/knee)\n",
    "\n",
    "d4: Hypertension + Diabetes\n",
    "\n",
    "d5: Hypertension + OA\n",
    "\n",
    "d6: Diabetes + OA\n",
    "\n",
    "d7: Hypertension + Diabetes + OA  "
   ]
  },
  {
   "cell_type": "code",
   "execution_count": 10,
   "metadata": {},
   "outputs": [],
   "source": [
    "df['Hypertension'] = pd.to_numeric(df['ph006d2'])\n",
    "df['Diabetes'] = pd.to_numeric(df['ph006d5'])\n",
    "df['OA'] = np.where(((df['ph006d20'] == 1) & (df['ph087d2'] == 1)) | ((df['ph006d20'] == 1) & (df['ph087d3'] == 1)), int(1), int(0))"
   ]
  },
  {
   "cell_type": "code",
   "execution_count": 11,
   "metadata": {},
   "outputs": [],
   "source": [
    "df['d1'] = np.where((df['Hypertension'] == 1) & (df['Diabetes'] == 0) & (df['OA'] == 0), int(1), int(0))\n",
    "df['d2'] = np.where((df['Hypertension'] == 0) & (df['Diabetes'] == 1) & (df['OA'] == 0), int(1), int(0))\n",
    "df['d3'] = np.where((df['Hypertension'] == 0) & (df['Diabetes'] == 0) & (df['OA'] == 1), int(1), int(0))\n",
    "df['d4'] = np.where((df['Hypertension'] == 1) & (df['Diabetes'] == 1) & (df['OA'] == 0), int(1), int(0))\n",
    "df['d5'] = np.where((df['Hypertension'] == 1) & (df['Diabetes'] == 0) & (df['OA'] == 1), int(1), int(0))\n",
    "df['d6'] = np.where((df['Hypertension'] == 0) & (df['Diabetes'] == 1) & (df['OA'] == 1), int(1), int(0))\n",
    "df['d7'] = np.where((df['Hypertension'] == 1) & (df['Diabetes'] == 1) & (df['OA'] == 1), int(1), int(0))\n",
    "df['control'] = np.where((df['Hypertension'] == 0) & (df['Diabetes'] == 0) & (df['OA'] == 0), int(1), int(0))"
   ]
  },
  {
   "cell_type": "code",
   "execution_count": 14,
   "metadata": {},
   "outputs": [
    {
     "data": {
      "text/plain": [
       "control    68352\n",
       "d1         43728\n",
       "d4         12336\n",
       "d3          8616\n",
       "d2          8040\n",
       "d5          7944\n",
       "d7          3648\n",
       "d6           936\n",
       "Name: disease, dtype: int64"
      ]
     },
     "execution_count": 14,
     "metadata": {},
     "output_type": "execute_result"
    }
   ],
   "source": [
    "df['disease']  = df[['d1', 'd2', 'd3', 'd4', 'd5', 'd6', 'd7', 'control',]].apply(lambda x: x.idxmax(), axis=1)\n",
    "df['disease'].value_counts()"
   ]
  },
  {
   "cell_type": "code",
   "execution_count": 15,
   "metadata": {},
   "outputs": [],
   "source": [
    "def map_bmi_num(df, columns: list[str] = ['bmi']):\n",
    "    df = df.copy()\n",
    "    for c in columns:\n",
    "        df.loc[:, c] = df[c].replace({\n",
    "            '-15. no information': -1,\n",
    "            '-13. not asked in this wave': -1,\n",
    "            \"-12. don't know / refusal\": -1,\n",
    "            '-3. implausible value/suspected wrong': -1,\n",
    "        })\n",
    "        df[c] = df[c].astype(float)\n",
    "    return df"
   ]
  },
  {
   "cell_type": "code",
   "execution_count": 16,
   "metadata": {},
   "outputs": [],
   "source": [
    "df = map_bmi_num(df)"
   ]
  },
  {
   "cell_type": "code",
   "execution_count": 17,
   "metadata": {},
   "outputs": [],
   "source": [
    "df['female'] = pd.to_numeric(df['female'].replace({'1. female': 1, '0. male': 0}))\n",
    "df.loc[:, 'age'] = df.replace({'-15. no information': -1})\n",
    "df.loc[:, 'age'] = df['age'].astype(float)"
   ]
  },
  {
   "cell_type": "code",
   "execution_count": 18,
   "metadata": {},
   "outputs": [],
   "source": [
    "df.drop(df[df.measurementday > 7].index, inplace=True)"
   ]
  },
  {
   "cell_type": "code",
   "execution_count": 19,
   "metadata": {},
   "outputs": [],
   "source": [
    "vars = ['mergeid', 'female', 'age', 'bmi', 'GGIR_mean_ENMO_hour','GGIR_N_valid_hours','hour','measurementday','weekday','month',\n",
    "        'year','device_id', 'frequency', 'position', 'country', 'disease', 'd1','d2','d3', 'd4','d5','d6','d7','control']\n",
    "df_stat = df[vars].copy()\n",
    "df_stat.rename(columns={'GGIR_mean_ENMO_hour': 'ENMO_hour'}, inplace=True)"
   ]
  },
  {
   "cell_type": "code",
   "execution_count": 20,
   "metadata": {},
   "outputs": [
    {
     "data": {
      "text/html": [
       "<div>\n",
       "<style scoped>\n",
       "    .dataframe tbody tr th:only-of-type {\n",
       "        vertical-align: middle;\n",
       "    }\n",
       "\n",
       "    .dataframe tbody tr th {\n",
       "        vertical-align: top;\n",
       "    }\n",
       "\n",
       "    .dataframe thead th {\n",
       "        text-align: right;\n",
       "    }\n",
       "</style>\n",
       "<table border=\"1\" class=\"dataframe\">\n",
       "  <thead>\n",
       "    <tr style=\"text-align: right;\">\n",
       "      <th></th>\n",
       "      <th>mergeid</th>\n",
       "      <th>female</th>\n",
       "      <th>age</th>\n",
       "      <th>bmi</th>\n",
       "      <th>ENMO_hour</th>\n",
       "      <th>GGIR_N_valid_hours</th>\n",
       "      <th>hour</th>\n",
       "      <th>measurementday</th>\n",
       "      <th>weekday</th>\n",
       "      <th>month</th>\n",
       "      <th>...</th>\n",
       "      <th>country</th>\n",
       "      <th>disease</th>\n",
       "      <th>d1</th>\n",
       "      <th>d2</th>\n",
       "      <th>d3</th>\n",
       "      <th>d4</th>\n",
       "      <th>d5</th>\n",
       "      <th>d6</th>\n",
       "      <th>d7</th>\n",
       "      <th>control</th>\n",
       "    </tr>\n",
       "  </thead>\n",
       "  <tbody>\n",
       "    <tr>\n",
       "      <th>4</th>\n",
       "      <td>Bf-031257-01</td>\n",
       "      <td>0</td>\n",
       "      <td>67.0</td>\n",
       "      <td>21.155294</td>\n",
       "      <td>6.697222</td>\n",
       "      <td>0.0</td>\n",
       "      <td>12am-1am</td>\n",
       "      <td>1</td>\n",
       "      <td>Tuesday</td>\n",
       "      <td>February</td>\n",
       "      <td>...</td>\n",
       "      <td>Belgium</td>\n",
       "      <td>control</td>\n",
       "      <td>0</td>\n",
       "      <td>0</td>\n",
       "      <td>0</td>\n",
       "      <td>0</td>\n",
       "      <td>0</td>\n",
       "      <td>0</td>\n",
       "      <td>0</td>\n",
       "      <td>1</td>\n",
       "    </tr>\n",
       "    <tr>\n",
       "      <th>9</th>\n",
       "      <td>Bf-031257-01</td>\n",
       "      <td>0</td>\n",
       "      <td>67.0</td>\n",
       "      <td>21.155294</td>\n",
       "      <td>10.741667</td>\n",
       "      <td>0.0</td>\n",
       "      <td>1am-2am</td>\n",
       "      <td>1</td>\n",
       "      <td>Tuesday</td>\n",
       "      <td>February</td>\n",
       "      <td>...</td>\n",
       "      <td>Belgium</td>\n",
       "      <td>control</td>\n",
       "      <td>0</td>\n",
       "      <td>0</td>\n",
       "      <td>0</td>\n",
       "      <td>0</td>\n",
       "      <td>0</td>\n",
       "      <td>0</td>\n",
       "      <td>0</td>\n",
       "      <td>1</td>\n",
       "    </tr>\n",
       "    <tr>\n",
       "      <th>14</th>\n",
       "      <td>Bf-031257-01</td>\n",
       "      <td>0</td>\n",
       "      <td>67.0</td>\n",
       "      <td>21.155294</td>\n",
       "      <td>7.848472</td>\n",
       "      <td>0.5</td>\n",
       "      <td>2am-3am</td>\n",
       "      <td>1</td>\n",
       "      <td>Tuesday</td>\n",
       "      <td>February</td>\n",
       "      <td>...</td>\n",
       "      <td>Belgium</td>\n",
       "      <td>control</td>\n",
       "      <td>0</td>\n",
       "      <td>0</td>\n",
       "      <td>0</td>\n",
       "      <td>0</td>\n",
       "      <td>0</td>\n",
       "      <td>0</td>\n",
       "      <td>0</td>\n",
       "      <td>1</td>\n",
       "    </tr>\n",
       "    <tr>\n",
       "      <th>19</th>\n",
       "      <td>Bf-031257-01</td>\n",
       "      <td>0</td>\n",
       "      <td>67.0</td>\n",
       "      <td>21.155294</td>\n",
       "      <td>0.244306</td>\n",
       "      <td>1.0</td>\n",
       "      <td>3am-4am</td>\n",
       "      <td>1</td>\n",
       "      <td>Tuesday</td>\n",
       "      <td>February</td>\n",
       "      <td>...</td>\n",
       "      <td>Belgium</td>\n",
       "      <td>control</td>\n",
       "      <td>0</td>\n",
       "      <td>0</td>\n",
       "      <td>0</td>\n",
       "      <td>0</td>\n",
       "      <td>0</td>\n",
       "      <td>0</td>\n",
       "      <td>0</td>\n",
       "      <td>1</td>\n",
       "    </tr>\n",
       "    <tr>\n",
       "      <th>24</th>\n",
       "      <td>Bf-031257-01</td>\n",
       "      <td>0</td>\n",
       "      <td>67.0</td>\n",
       "      <td>21.155294</td>\n",
       "      <td>4.214167</td>\n",
       "      <td>1.0</td>\n",
       "      <td>4am-5am</td>\n",
       "      <td>1</td>\n",
       "      <td>Tuesday</td>\n",
       "      <td>February</td>\n",
       "      <td>...</td>\n",
       "      <td>Belgium</td>\n",
       "      <td>control</td>\n",
       "      <td>0</td>\n",
       "      <td>0</td>\n",
       "      <td>0</td>\n",
       "      <td>0</td>\n",
       "      <td>0</td>\n",
       "      <td>0</td>\n",
       "      <td>0</td>\n",
       "      <td>1</td>\n",
       "    </tr>\n",
       "  </tbody>\n",
       "</table>\n",
       "<p>5 rows × 24 columns</p>\n",
       "</div>"
      ],
      "text/plain": [
       "         mergeid  female   age        bmi  ENMO_hour  GGIR_N_valid_hours  \\\n",
       "4   Bf-031257-01       0  67.0  21.155294   6.697222                 0.0   \n",
       "9   Bf-031257-01       0  67.0  21.155294  10.741667                 0.0   \n",
       "14  Bf-031257-01       0  67.0  21.155294   7.848472                 0.5   \n",
       "19  Bf-031257-01       0  67.0  21.155294   0.244306                 1.0   \n",
       "24  Bf-031257-01       0  67.0  21.155294   4.214167                 1.0   \n",
       "\n",
       "        hour  measurementday  weekday     month  ...  country  disease  d1 d2  \\\n",
       "4   12am-1am               1  Tuesday  February  ...  Belgium  control   0  0   \n",
       "9    1am-2am               1  Tuesday  February  ...  Belgium  control   0  0   \n",
       "14   2am-3am               1  Tuesday  February  ...  Belgium  control   0  0   \n",
       "19   3am-4am               1  Tuesday  February  ...  Belgium  control   0  0   \n",
       "24   4am-5am               1  Tuesday  February  ...  Belgium  control   0  0   \n",
       "\n",
       "   d3 d4  d5  d6  d7  control  \n",
       "4   0  0   0   0   0        1  \n",
       "9   0  0   0   0   0        1  \n",
       "14  0  0   0   0   0        1  \n",
       "19  0  0   0   0   0        1  \n",
       "24  0  0   0   0   0        1  \n",
       "\n",
       "[5 rows x 24 columns]"
      ]
     },
     "execution_count": 20,
     "metadata": {},
     "output_type": "execute_result"
    }
   ],
   "source": [
    "df_stat.head(5)"
   ]
  },
  {
   "attachments": {},
   "cell_type": "markdown",
   "metadata": {},
   "source": [
    "Export to csv"
   ]
  },
  {
   "cell_type": "code",
   "execution_count": 21,
   "metadata": {},
   "outputs": [],
   "source": [
    "df_stat.to_csv(f\"{outdir}/merged_data.csv\", index = False)"
   ]
  }
 ],
 "metadata": {
  "kernelspec": {
   "display_name": "base",
   "language": "python",
   "name": "python3"
  },
  "language_info": {
   "codemirror_mode": {
    "name": "ipython",
    "version": 3
   },
   "file_extension": ".py",
   "mimetype": "text/x-python",
   "name": "python",
   "nbconvert_exporter": "python",
   "pygments_lexer": "ipython3",
   "version": "3.9.13 (main, Aug 25 2022, 23:51:50) [MSC v.1916 64 bit (AMD64)]"
  },
  "orig_nbformat": 4,
  "vscode": {
   "interpreter": {
    "hash": "8d27049ee283f18218203f75263ae5befb135864e95dedb29ad7a80778fe0c6e"
   }
  }
 },
 "nbformat": 4,
 "nbformat_minor": 2
}
